{
  "nbformat": 4,
  "nbformat_minor": 0,
  "metadata": {
    "colab": {
      "name": "Sentiment Analysis TF.ipynb",
      "provenance": [],
      "authorship_tag": "ABX9TyPoI8tG9BkXH+7ftOg5MXFt",
      "include_colab_link": true
    },
    "kernelspec": {
      "name": "python3",
      "display_name": "Python 3"
    },
    "language_info": {
      "name": "python"
    }
  },
  "cells": [
    {
      "cell_type": "markdown",
      "metadata": {
        "id": "view-in-github",
        "colab_type": "text"
      },
      "source": [
        "<a href=\"https://colab.research.google.com/github/abhinav9629/Sentiment-Classifier/blob/main/Sentiment_Analysis_TF.ipynb\" target=\"_parent\"><img src=\"https://colab.research.google.com/assets/colab-badge.svg\" alt=\"Open In Colab\"/></a>"
      ]
    },
    {
      "cell_type": "code",
      "metadata": {
        "colab": {
          "base_uri": "https://localhost:8080/"
        },
        "id": "Cn7GQu9MwXIm",
        "outputId": "a690e3c7-2cca-4e95-c622-315af516d158"
      },
      "source": [
        "from google.colab import drive\n",
        "drive.mount('/content/MyDrive')"
      ],
      "execution_count": 1,
      "outputs": [
        {
          "output_type": "stream",
          "text": [
            "Mounted at /content/MyDrive\n"
          ],
          "name": "stdout"
        }
      ]
    },
    {
      "cell_type": "code",
      "metadata": {
        "id": "2NFUBNVSizk3"
      },
      "source": [
        "import tensorflow.keras as keras\n",
        "import pandas as pd\n",
        "import re\n",
        "from sklearn.feature_extraction.text import CountVectorizer\n",
        "from keras.preprocessing.text import Tokenizer\n",
        "from keras.preprocessing.sequence import pad_sequences\n",
        "from sklearn.model_selection import train_test_split\n"
      ],
      "execution_count": 78,
      "outputs": []
    },
    {
      "cell_type": "code",
      "metadata": {
        "id": "cr25c5t72db8"
      },
      "source": [
        "train_df = pd.read_csv('/content/MyDrive/MyDrive/HOTEL REVIEW DATASET/SAD/train.csv',encoding='cp1252')\n",
        "test_df = pd.read_csv('/content/MyDrive/MyDrive/HOTEL REVIEW DATASET/SAD/test.csv',encoding='cp1252')\n"
      ],
      "execution_count": 98,
      "outputs": []
    },
    {
      "cell_type": "code",
      "metadata": {
        "id": "ztpqBeXPF0de"
      },
      "source": [
        "train_df = train_df[['text','sentiment']]\n",
        "test_df = test_df[['text','sentiment']]\n"
      ],
      "execution_count": 99,
      "outputs": []
    },
    {
      "cell_type": "code",
      "metadata": {
        "id": "-3W9D47bF3gY"
      },
      "source": [
        "train_df['text'] = train_df['text'].apply(lambda x: re.sub('[^a-zA-z0-9\\s]','',str(x)))\n",
        "train_df['text'] = train_df['text'].apply(lambda x : str(x).lower())\n",
        "test_df['text'] = test_df['text'].apply(lambda x: re.sub('[^a-zA-z0-9\\s]','',str(x)))\n",
        "test_df['text'] = test_df['text'].apply(lambda x : str(x).lower())\n"
      ],
      "execution_count": 100,
      "outputs": []
    },
    {
      "cell_type": "code",
      "metadata": {
        "id": "uei1ZJsUsHVy"
      },
      "source": [
        "train_targets = pd.get_dummies(train_df['sentiment']).values"
      ],
      "execution_count": 101,
      "outputs": []
    },
    {
      "cell_type": "code",
      "metadata": {
        "id": "QRLLM5jiVhR5"
      },
      "source": [
        "test_targets = pd.get_dummies(test_df['sentiment']).values"
      ],
      "execution_count": 102,
      "outputs": []
    },
    {
      "cell_type": "code",
      "metadata": {
        "id": "vyjd2bRpRnsU"
      },
      "source": [
        "for idx,row in train_df.iterrows():\n",
        "    row[0] = row[0].replace('rt',' ')\n",
        "\n",
        "for idx,row in test_df.iterrows():\n",
        "    row[0] = row[0].replace('rt',' ')"
      ],
      "execution_count": 84,
      "outputs": []
    },
    {
      "cell_type": "code",
      "metadata": {
        "id": "38CBSq7_YDcz"
      },
      "source": [
        "max_features = 2000\n",
        "tokenizer = Tokenizer(num_words=max_features, split=' ')\n",
        "tokenizer.fit_on_texts(train_df['text'].values)\n",
        "train_samples = tokenizer.texts_to_sequences(train_df['text'].values)\n",
        "train_samples = pad_sequences(train_samples)\n"
      ],
      "execution_count": 117,
      "outputs": []
    },
    {
      "cell_type": "code",
      "metadata": {
        "id": "cYHOhzSCp_iU"
      },
      "source": [
        "#Hyperparameters\n",
        "embed_dim = 128\n",
        "lstm_out = 196"
      ],
      "execution_count": 86,
      "outputs": []
    },
    {
      "cell_type": "code",
      "metadata": {
        "id": "mpVeg7Thgn5b"
      },
      "source": [
        "#MODEL"
      ],
      "execution_count": 62,
      "outputs": []
    },
    {
      "cell_type": "code",
      "metadata": {
        "id": "XMesU3TVo08o"
      },
      "source": [
        "model = keras.Sequential([\n",
        "  keras.layers.Embedding(max_features,embed_dim,input_length=train_samples.shape[1]),\n",
        "  keras.layers.SpatialDropout1D(0.4),\n",
        "  keras.layers.LSTM(lstm_out,dropout=0.2,recurrent_dropout=0.2),\n",
        "  keras.layers.Dense(3,activation='softmax')                          \n",
        "])\n"
      ],
      "execution_count": 87,
      "outputs": []
    },
    {
      "cell_type": "code",
      "metadata": {
        "id": "bSbCqHMFqxH3"
      },
      "source": [
        "optimiser = keras.optimizers.Adam(learning_rate=0.001)\n",
        "model.compile(optimizer=optimiser,loss=\"categorical_crossentropy\",metrics=['accuracy'])"
      ],
      "execution_count": 88,
      "outputs": []
    },
    {
      "cell_type": "code",
      "metadata": {
        "colab": {
          "base_uri": "https://localhost:8080/"
        },
        "id": "mhwG49tLrOSY",
        "outputId": "cd594b8d-9f9a-4178-84a0-31a453ec1daf"
      },
      "source": [
        "train_samples.shape"
      ],
      "execution_count": 89,
      "outputs": [
        {
          "output_type": "execute_result",
          "data": {
            "text/plain": [
              "(27481, 33)"
            ]
          },
          "metadata": {
            "tags": []
          },
          "execution_count": 89
        }
      ]
    },
    {
      "cell_type": "code",
      "metadata": {
        "colab": {
          "base_uri": "https://localhost:8080/"
        },
        "id": "HV5qWeGD0VAK",
        "outputId": "617a972e-5e49-42c8-a736-34f9b2fde008"
      },
      "source": [
        "train_targets.shape"
      ],
      "execution_count": 90,
      "outputs": [
        {
          "output_type": "execute_result",
          "data": {
            "text/plain": [
              "(27481, 3)"
            ]
          },
          "metadata": {
            "tags": []
          },
          "execution_count": 90
        }
      ]
    },
    {
      "cell_type": "code",
      "metadata": {
        "colab": {
          "base_uri": "https://localhost:8080/"
        },
        "id": "Qe31sEq_0lnB",
        "outputId": "a5d131ab-a080-4b7e-cb00-6540291fa5e5"
      },
      "source": [
        "model.fit(train_samples,train_targets,batch_size=32,epochs=50)"
      ],
      "execution_count": 92,
      "outputs": [
        {
          "output_type": "stream",
          "text": [
            "Epoch 1/50\n",
            "859/859 [==============================] - 156s 182ms/step - loss: 0.7199 - accuracy: 0.6965\n",
            "Epoch 2/50\n",
            "859/859 [==============================] - 154s 180ms/step - loss: 0.6412 - accuracy: 0.7372\n",
            "Epoch 3/50\n",
            "859/859 [==============================] - 155s 180ms/step - loss: 0.6110 - accuracy: 0.7498\n",
            "Epoch 4/50\n",
            "859/859 [==============================] - 155s 180ms/step - loss: 0.5851 - accuracy: 0.7623\n",
            "Epoch 5/50\n",
            "859/859 [==============================] - 155s 181ms/step - loss: 0.5591 - accuracy: 0.7704\n",
            "Epoch 6/50\n",
            "859/859 [==============================] - 154s 179ms/step - loss: 0.5404 - accuracy: 0.7788\n",
            "Epoch 7/50\n",
            "859/859 [==============================] - 154s 180ms/step - loss: 0.5191 - accuracy: 0.7895\n",
            "Epoch 8/50\n",
            "859/859 [==============================] - 154s 179ms/step - loss: 0.4948 - accuracy: 0.7997\n",
            "Epoch 9/50\n",
            "859/859 [==============================] - 155s 180ms/step - loss: 0.4742 - accuracy: 0.8068\n",
            "Epoch 10/50\n",
            "859/859 [==============================] - 154s 179ms/step - loss: 0.4565 - accuracy: 0.8135\n",
            "Epoch 11/50\n",
            "859/859 [==============================] - 156s 181ms/step - loss: 0.4362 - accuracy: 0.8260\n",
            "Epoch 12/50\n",
            "859/859 [==============================] - 156s 181ms/step - loss: 0.4155 - accuracy: 0.8324\n",
            "Epoch 13/50\n",
            "859/859 [==============================] - 156s 182ms/step - loss: 0.4003 - accuracy: 0.8384\n",
            "Epoch 14/50\n",
            "859/859 [==============================] - 155s 181ms/step - loss: 0.3840 - accuracy: 0.8463\n",
            "Epoch 15/50\n",
            "859/859 [==============================] - 156s 181ms/step - loss: 0.3675 - accuracy: 0.8531\n",
            "Epoch 16/50\n",
            "859/859 [==============================] - 155s 180ms/step - loss: 0.3538 - accuracy: 0.8608\n",
            "Epoch 17/50\n",
            "859/859 [==============================] - 156s 182ms/step - loss: 0.3357 - accuracy: 0.8666\n",
            "Epoch 18/50\n",
            "859/859 [==============================] - 153s 178ms/step - loss: 0.3188 - accuracy: 0.8728\n",
            "Epoch 19/50\n",
            "859/859 [==============================] - 154s 179ms/step - loss: 0.3013 - accuracy: 0.8793\n",
            "Epoch 20/50\n",
            "859/859 [==============================] - 153s 179ms/step - loss: 0.2975 - accuracy: 0.8842\n",
            "Epoch 21/50\n",
            "859/859 [==============================] - 154s 179ms/step - loss: 0.2817 - accuracy: 0.8889\n",
            "Epoch 22/50\n",
            "859/859 [==============================] - 153s 178ms/step - loss: 0.2720 - accuracy: 0.8944\n",
            "Epoch 23/50\n",
            "859/859 [==============================] - 155s 180ms/step - loss: 0.2607 - accuracy: 0.8962\n",
            "Epoch 24/50\n",
            "859/859 [==============================] - 155s 180ms/step - loss: 0.2528 - accuracy: 0.9005\n",
            "Epoch 25/50\n",
            "859/859 [==============================] - 156s 181ms/step - loss: 0.2415 - accuracy: 0.9059\n",
            "Epoch 26/50\n",
            "859/859 [==============================] - 156s 182ms/step - loss: 0.2356 - accuracy: 0.9086\n",
            "Epoch 27/50\n",
            "859/859 [==============================] - 157s 182ms/step - loss: 0.2282 - accuracy: 0.9096\n",
            "Epoch 28/50\n",
            "859/859 [==============================] - 156s 181ms/step - loss: 0.2197 - accuracy: 0.9158\n",
            "Epoch 29/50\n",
            "859/859 [==============================] - 155s 181ms/step - loss: 0.2123 - accuracy: 0.9175\n",
            "Epoch 30/50\n",
            "859/859 [==============================] - 156s 181ms/step - loss: 0.2128 - accuracy: 0.9178\n",
            "Epoch 31/50\n",
            "859/859 [==============================] - 155s 181ms/step - loss: 0.2065 - accuracy: 0.9209\n",
            "Epoch 32/50\n",
            "859/859 [==============================] - 155s 181ms/step - loss: 0.1969 - accuracy: 0.9246\n",
            "Epoch 33/50\n",
            "859/859 [==============================] - 155s 180ms/step - loss: 0.1931 - accuracy: 0.9266\n",
            "Epoch 34/50\n",
            "859/859 [==============================] - 156s 181ms/step - loss: 0.1904 - accuracy: 0.9255\n",
            "Epoch 35/50\n",
            "859/859 [==============================] - 156s 181ms/step - loss: 0.1879 - accuracy: 0.9275\n",
            "Epoch 36/50\n",
            "859/859 [==============================] - 156s 181ms/step - loss: 0.1822 - accuracy: 0.9310\n",
            "Epoch 37/50\n",
            "859/859 [==============================] - 156s 181ms/step - loss: 0.1735 - accuracy: 0.9339\n",
            "Epoch 38/50\n",
            "859/859 [==============================] - 157s 182ms/step - loss: 0.1697 - accuracy: 0.9336\n",
            "Epoch 39/50\n",
            "859/859 [==============================] - 155s 180ms/step - loss: 0.1661 - accuracy: 0.9362\n",
            "Epoch 40/50\n",
            "859/859 [==============================] - 156s 181ms/step - loss: 0.1652 - accuracy: 0.9376\n",
            "Epoch 41/50\n",
            "859/859 [==============================] - 154s 180ms/step - loss: 0.1563 - accuracy: 0.9405\n",
            "Epoch 42/50\n",
            "859/859 [==============================] - 155s 180ms/step - loss: 0.1541 - accuracy: 0.9409\n",
            "Epoch 43/50\n",
            "859/859 [==============================] - 154s 179ms/step - loss: 0.1598 - accuracy: 0.9392\n",
            "Epoch 44/50\n",
            "859/859 [==============================] - 154s 180ms/step - loss: 0.1594 - accuracy: 0.9398\n",
            "Epoch 45/50\n",
            "859/859 [==============================] - 154s 179ms/step - loss: 0.1469 - accuracy: 0.9449\n",
            "Epoch 46/50\n",
            "859/859 [==============================] - 155s 181ms/step - loss: 0.1483 - accuracy: 0.9432\n",
            "Epoch 47/50\n",
            "859/859 [==============================] - 155s 180ms/step - loss: 0.1486 - accuracy: 0.9426\n",
            "Epoch 48/50\n",
            "859/859 [==============================] - 154s 180ms/step - loss: 0.1458 - accuracy: 0.9455\n",
            "Epoch 49/50\n",
            "859/859 [==============================] - 154s 180ms/step - loss: 0.1421 - accuracy: 0.9458\n",
            "Epoch 50/50\n",
            "859/859 [==============================] - 154s 179ms/step - loss: 0.1387 - accuracy: 0.9483\n"
          ],
          "name": "stdout"
        },
        {
          "output_type": "execute_result",
          "data": {
            "text/plain": [
              "<tensorflow.python.keras.callbacks.History at 0x7f0b8c1a4c10>"
            ]
          },
          "metadata": {
            "tags": []
          },
          "execution_count": 92
        }
      ]
    },
    {
      "cell_type": "code",
      "metadata": {
        "id": "JHJ7NwEj0zOZ"
      },
      "source": [
        "max_features = 2000\n",
        "tokenizer = Tokenizer(num_words=max_features, split=' ')\n",
        "tokenizer.fit_on_texts(test_df['text'].values)\n",
        "test_samples = tokenizer.texts_to_sequences(test_df['text'].values)\n",
        "test_samples = pad_sequences(test_samples)"
      ],
      "execution_count": 115,
      "outputs": []
    },
    {
      "cell_type": "code",
      "metadata": {
        "colab": {
          "base_uri": "https://localhost:8080/"
        },
        "id": "g-HPEw9uWdhe",
        "outputId": "22061cd7-bb9e-4a10-f0a4-cd14dd67d18e"
      },
      "source": [
        "model.evaluate(test_samples,test_targets)"
      ],
      "execution_count": 116,
      "outputs": [
        {
          "output_type": "stream",
          "text": [
            "151/151 [==============================] - 3s 22ms/step - loss: 3.2586 - accuracy: 0.2629\n"
          ],
          "name": "stdout"
        },
        {
          "output_type": "execute_result",
          "data": {
            "text/plain": [
              "[3.258634090423584, 0.2629283368587494]"
            ]
          },
          "metadata": {
            "tags": []
          },
          "execution_count": 116
        }
      ]
    },
    {
      "cell_type": "code",
      "metadata": {
        "id": "enO0PrrgYFgL"
      },
      "source": [
        ""
      ],
      "execution_count": null,
      "outputs": []
    }
  ]
}