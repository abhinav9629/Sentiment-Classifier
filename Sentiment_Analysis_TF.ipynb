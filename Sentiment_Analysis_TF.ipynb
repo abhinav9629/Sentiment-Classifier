{
  "nbformat": 4,
  "nbformat_minor": 0,
  "metadata": {
    "colab": {
      "name": "Sentiment Analysis TF.ipynb",
      "provenance": [],
      "authorship_tag": "ABX9TyNAE1d7RPhEde6kkyMD4MaF",
      "include_colab_link": true
    },
    "kernelspec": {
      "name": "python3",
      "display_name": "Python 3"
    },
    "language_info": {
      "name": "python"
    },
    "accelerator": "GPU"
  },
  "cells": [
    {
      "cell_type": "markdown",
      "metadata": {
        "id": "view-in-github",
        "colab_type": "text"
      },
      "source": [
        "<a href=\"https://colab.research.google.com/github/abhinav9629/Sentiment-Classifier/blob/main/Sentiment_Analysis_TF.ipynb\" target=\"_parent\"><img src=\"https://colab.research.google.com/assets/colab-badge.svg\" alt=\"Open In Colab\"/></a>"
      ]
    },
    {
      "cell_type": "code",
      "metadata": {
        "colab": {
          "base_uri": "https://localhost:8080/"
        },
        "id": "Cn7GQu9MwXIm",
        "outputId": "c9694fb0-debd-4049-a8f0-97daa3088c7f"
      },
      "source": [
        "from google.colab import drive\n",
        "drive.mount('/content/MyDrive')"
      ],
      "execution_count": 1,
      "outputs": [
        {
          "output_type": "stream",
          "text": [
            "Mounted at /content/MyDrive\n"
          ],
          "name": "stdout"
        }
      ]
    },
    {
      "cell_type": "code",
      "metadata": {
        "id": "2NFUBNVSizk3"
      },
      "source": [
        "import tensorflow.keras as keras\n",
        "import pandas as pd\n",
        "import re\n",
        "from sklearn.feature_extraction.text import CountVectorizer\n",
        "from keras.preprocessing.text import Tokenizer\n",
        "from keras.preprocessing.sequence import pad_sequences\n",
        "from sklearn.model_selection import train_test_split\n"
      ],
      "execution_count": 2,
      "outputs": []
    },
    {
      "cell_type": "code",
      "metadata": {
        "id": "cr25c5t72db8"
      },
      "source": [
        "df = pd.read_csv('/content/MyDrive/MyDrive/HOTEL REVIEW DATASET/training.1600000.processed.noemoticon.csv',encoding='cp1252')\n",
        "df.columns = ['sentiment','no','time','query','name','text']\n"
      ],
      "execution_count": 3,
      "outputs": []
    },
    {
      "cell_type": "code",
      "metadata": {
        "id": "CVo9DiOkoOiJ"
      },
      "source": [
        "df = df[['text','sentiment']]"
      ],
      "execution_count": 4,
      "outputs": []
    },
    {
      "cell_type": "code",
      "metadata": {
        "colab": {
          "base_uri": "https://localhost:8080/",
          "height": 206
        },
        "id": "PCnK3P-Kl_Md",
        "outputId": "702377b3-3ed9-4f48-add8-1f84faa692a7"
      },
      "source": [
        "df.head()"
      ],
      "execution_count": 5,
      "outputs": [
        {
          "output_type": "execute_result",
          "data": {
            "text/html": [
              "<div>\n",
              "<style scoped>\n",
              "    .dataframe tbody tr th:only-of-type {\n",
              "        vertical-align: middle;\n",
              "    }\n",
              "\n",
              "    .dataframe tbody tr th {\n",
              "        vertical-align: top;\n",
              "    }\n",
              "\n",
              "    .dataframe thead th {\n",
              "        text-align: right;\n",
              "    }\n",
              "</style>\n",
              "<table border=\"1\" class=\"dataframe\">\n",
              "  <thead>\n",
              "    <tr style=\"text-align: right;\">\n",
              "      <th></th>\n",
              "      <th>text</th>\n",
              "      <th>sentiment</th>\n",
              "    </tr>\n",
              "  </thead>\n",
              "  <tbody>\n",
              "    <tr>\n",
              "      <th>0</th>\n",
              "      <td>is upset that he can't update his Facebook by ...</td>\n",
              "      <td>0</td>\n",
              "    </tr>\n",
              "    <tr>\n",
              "      <th>1</th>\n",
              "      <td>@Kenichan I dived many times for the ball. Man...</td>\n",
              "      <td>0</td>\n",
              "    </tr>\n",
              "    <tr>\n",
              "      <th>2</th>\n",
              "      <td>my whole body feels itchy and like its on fire</td>\n",
              "      <td>0</td>\n",
              "    </tr>\n",
              "    <tr>\n",
              "      <th>3</th>\n",
              "      <td>@nationwideclass no, it's not behaving at all....</td>\n",
              "      <td>0</td>\n",
              "    </tr>\n",
              "    <tr>\n",
              "      <th>4</th>\n",
              "      <td>@Kwesidei not the whole crew</td>\n",
              "      <td>0</td>\n",
              "    </tr>\n",
              "  </tbody>\n",
              "</table>\n",
              "</div>"
            ],
            "text/plain": [
              "                                                text  sentiment\n",
              "0  is upset that he can't update his Facebook by ...          0\n",
              "1  @Kenichan I dived many times for the ball. Man...          0\n",
              "2    my whole body feels itchy and like its on fire           0\n",
              "3  @nationwideclass no, it's not behaving at all....          0\n",
              "4                      @Kwesidei not the whole crew           0"
            ]
          },
          "metadata": {
            "tags": []
          },
          "execution_count": 5
        }
      ]
    },
    {
      "cell_type": "code",
      "metadata": {
        "id": "-3W9D47bF3gY"
      },
      "source": [
        "df['text'] = df['text'].apply(lambda x: re.sub('[^a-zA-z0-9\\s]','',str(x)))\n",
        "df['text'] = df['text'].apply(lambda x : str(x).lower())\n"
      ],
      "execution_count": 6,
      "outputs": []
    },
    {
      "cell_type": "code",
      "metadata": {
        "id": "uei1ZJsUsHVy",
        "colab": {
          "base_uri": "https://localhost:8080/"
        },
        "outputId": "1e671dad-581d-48f0-dd62-7636027b4899"
      },
      "source": [
        "tar = pd.get_dummies(df['sentiment']).values\n",
        "print(tar)"
      ],
      "execution_count": 7,
      "outputs": [
        {
          "output_type": "stream",
          "text": [
            "[[1 0]\n",
            " [1 0]\n",
            " [1 0]\n",
            " ...\n",
            " [0 1]\n",
            " [0 1]\n",
            " [0 1]]\n"
          ],
          "name": "stdout"
        }
      ]
    },
    {
      "cell_type": "code",
      "metadata": {
        "id": "vyjd2bRpRnsU"
      },
      "source": [
        "for idx,row in df.iterrows():\n",
        "    row[0] = row[0].replace('rt',' ')\n"
      ],
      "execution_count": 8,
      "outputs": []
    },
    {
      "cell_type": "code",
      "metadata": {
        "id": "38CBSq7_YDcz"
      },
      "source": [
        "max_features = 2000\n",
        "tokenizer = Tokenizer(num_words=max_features, split=' ')\n",
        "tokenizer.fit_on_texts(df['text'].values)\n",
        "samples = tokenizer.texts_to_sequences(df['text'].values)\n",
        "samples = pad_sequences(samples)\n"
      ],
      "execution_count": 9,
      "outputs": []
    },
    {
      "cell_type": "code",
      "metadata": {
        "id": "PWJkSuPZqCXR"
      },
      "source": [
        "train_input,test_input,train_target,test_target = train_test_split(samples,tar,test_size=0.3)"
      ],
      "execution_count": 10,
      "outputs": []
    },
    {
      "cell_type": "code",
      "metadata": {
        "id": "mpVeg7Thgn5b"
      },
      "source": [
        "#Hyperparameters\n",
        "embed_dim = 128\n",
        "lstm_out = 196"
      ],
      "execution_count": 11,
      "outputs": []
    },
    {
      "cell_type": "code",
      "metadata": {
        "id": "7odcc6jPriMu"
      },
      "source": [
        "#Model"
      ],
      "execution_count": 12,
      "outputs": []
    },
    {
      "cell_type": "code",
      "metadata": {
        "id": "XMesU3TVo08o",
        "colab": {
          "base_uri": "https://localhost:8080/"
        },
        "outputId": "8d824021-8da6-4fcd-95c8-c91d8ac6bd17"
      },
      "source": [
        "model = keras.Sequential([\n",
        "  keras.layers.Embedding(max_features,embed_dim,input_length=train_input.shape[1]),\n",
        "  keras.layers.SpatialDropout1D(0.4),\n",
        "  keras.layers.LSTM(lstm_out,dropout=0.2,recurrent_dropout=0.2),\n",
        "  keras.layers.Dense(2,activation='softmax')                          \n",
        "])\n"
      ],
      "execution_count": 13,
      "outputs": [
        {
          "output_type": "stream",
          "text": [
            "WARNING:tensorflow:Layer lstm will not use cuDNN kernels since it doesn't meet the criteria. It will use a generic GPU kernel as fallback when running on GPU.\n"
          ],
          "name": "stdout"
        }
      ]
    },
    {
      "cell_type": "code",
      "metadata": {
        "id": "bSbCqHMFqxH3"
      },
      "source": [
        "optimiser = keras.optimizers.Adam(learning_rate=0.001)\n",
        "model.compile(optimizer=optimiser,loss=\"categorical_crossentropy\",metrics=['accuracy'])"
      ],
      "execution_count": 14,
      "outputs": []
    },
    {
      "cell_type": "code",
      "metadata": {
        "colab": {
          "base_uri": "https://localhost:8080/"
        },
        "id": "mhwG49tLrOSY",
        "outputId": "9844e340-9ca5-4a50-fa51-7090566d3e0e"
      },
      "source": [
        "print(train_input.shape,train_target.shape)"
      ],
      "execution_count": 15,
      "outputs": [
        {
          "output_type": "stream",
          "text": [
            "(1119999, 40) (1119999, 2)\n"
          ],
          "name": "stdout"
        }
      ]
    },
    {
      "cell_type": "code",
      "metadata": {
        "colab": {
          "base_uri": "https://localhost:8080/"
        },
        "id": "HV5qWeGD0VAK",
        "outputId": "b2c7d86e-e93f-4cdc-e3a5-05ca433a78fb"
      },
      "source": [
        "print(test_input.shape,test_target.shape)"
      ],
      "execution_count": 16,
      "outputs": [
        {
          "output_type": "stream",
          "text": [
            "(480000, 40) (480000, 2)\n"
          ],
          "name": "stdout"
        }
      ]
    },
    {
      "cell_type": "code",
      "metadata": {
        "colab": {
          "base_uri": "https://localhost:8080/"
        },
        "id": "Qe31sEq_0lnB",
        "outputId": "36256712-e5a4-45f7-8ed9-55f762522505"
      },
      "source": [
        "model.fit(train_input,train_target,batch_size=128,epochs=5)"
      ],
      "execution_count": 17,
      "outputs": [
        {
          "output_type": "stream",
          "text": [
            "Epoch 1/5\n",
            "8750/8750 [==============================] - 1467s 167ms/step - loss: 0.4534 - accuracy: 0.7850\n",
            "Epoch 2/5\n",
            "8750/8750 [==============================] - 1440s 165ms/step - loss: 0.4292 - accuracy: 0.7996\n",
            "Epoch 3/5\n",
            "8750/8750 [==============================] - 1431s 164ms/step - loss: 0.4194 - accuracy: 0.8051\n",
            "Epoch 4/5\n",
            "8750/8750 [==============================] - 1424s 163ms/step - loss: 0.4125 - accuracy: 0.8088\n",
            "Epoch 5/5\n",
            "8750/8750 [==============================] - 1397s 160ms/step - loss: 0.4072 - accuracy: 0.8117\n"
          ],
          "name": "stdout"
        },
        {
          "output_type": "execute_result",
          "data": {
            "text/plain": [
              "<tensorflow.python.keras.callbacks.History at 0x7f8fa2b33dd0>"
            ]
          },
          "metadata": {
            "tags": []
          },
          "execution_count": 17
        }
      ]
    },
    {
      "cell_type": "code",
      "metadata": {
        "colab": {
          "base_uri": "https://localhost:8080/"
        },
        "id": "g-HPEw9uWdhe",
        "outputId": "3176b669-ba37-468c-ffad-d7bc203d29cd"
      },
      "source": [
        "model.evaluate(test_input,test_target)"
      ],
      "execution_count": 18,
      "outputs": [
        {
          "output_type": "stream",
          "text": [
            "15000/15000 [==============================] - 182s 12ms/step - loss: 0.4091 - accuracy: 0.8121\n"
          ],
          "name": "stdout"
        },
        {
          "output_type": "execute_result",
          "data": {
            "text/plain": [
              "[0.4090561270713806, 0.8120853900909424]"
            ]
          },
          "metadata": {
            "tags": []
          },
          "execution_count": 18
        }
      ]
    },
    {
      "cell_type": "code",
      "metadata": {
        "id": "enO0PrrgYFgL"
      },
      "source": [
        "model.save('/content/MyDrive/MyDrive/model/sentiment_anal_tf.h5')"
      ],
      "execution_count": 19,
      "outputs": []
    }
  ]
}